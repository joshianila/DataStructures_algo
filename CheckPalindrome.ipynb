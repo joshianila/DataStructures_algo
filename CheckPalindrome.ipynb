{
 "cells": [
  {
   "cell_type": "code",
   "execution_count": 6,
   "metadata": {},
   "outputs": [],
   "source": [
    "#Space Complexity O(1) and Time Complexity O(n)\n",
    "def isPalindrome(string):\n",
    "    # Write your code here.\n",
    "    arr = list(string)\n",
    "    if len(arr)==1:\n",
    "        return (True)\n",
    "    i = 0\n",
    "    j = len(arr)-1\n",
    "    while i<j:\n",
    "        if arr[i]==arr[j]:\n",
    "            i = i+1\n",
    "            j = j-1\n",
    "        else:\n",
    "            return(False)\n",
    "    return(True)"
   ]
  },
  {
   "cell_type": "code",
   "execution_count": 7,
   "metadata": {},
   "outputs": [
    {
     "data": {
      "text/plain": [
       "True"
      ]
     },
     "execution_count": 7,
     "metadata": {},
     "output_type": "execute_result"
    }
   ],
   "source": [
    "isPalindrome('aba')"
   ]
  },
  {
   "cell_type": "code",
   "execution_count": 13,
   "metadata": {},
   "outputs": [],
   "source": [
    "#Space Complexity O(n) and Time Complexity O(n)\n",
    "def isPalindrome_r(string):\n",
    "    arr = list(string)\n",
    "    if len(arr)==1:\n",
    "        return(True)\n",
    "    if arr[0]==arr[len(arr)-1]:\n",
    "        return(isPalindrome(''.join(arr[1:len(arr)-1])))\n",
    "    else:\n",
    "        return(False)"
   ]
  },
  {
   "cell_type": "code",
   "execution_count": 16,
   "metadata": {},
   "outputs": [
    {
     "data": {
      "text/plain": [
       "True"
      ]
     },
     "execution_count": 16,
     "metadata": {},
     "output_type": "execute_result"
    }
   ],
   "source": [
    "isPalindrome_r('cabac')"
   ]
  },
  {
   "cell_type": "code",
   "execution_count": null,
   "metadata": {},
   "outputs": [],
   "source": []
  }
 ],
 "metadata": {
  "kernelspec": {
   "display_name": "Python 3",
   "language": "python",
   "name": "python3"
  },
  "language_info": {
   "codemirror_mode": {
    "name": "ipython",
    "version": 3
   },
   "file_extension": ".py",
   "mimetype": "text/x-python",
   "name": "python",
   "nbconvert_exporter": "python",
   "pygments_lexer": "ipython3",
   "version": "3.7.3"
  }
 },
 "nbformat": 4,
 "nbformat_minor": 2
}
