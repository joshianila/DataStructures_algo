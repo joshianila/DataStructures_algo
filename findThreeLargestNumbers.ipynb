{
 "cells": [
  {
   "cell_type": "code",
   "execution_count": 88,
   "metadata": {},
   "outputs": [],
   "source": [
    "#Time Complexity O(nlogn) and Space Complexity O(n)\n",
    "def findThreeLargestNumbers(array):\n",
    "    array.sort()\n",
    "    arr = []\n",
    "    for i in range(len(array)-1,len(array)-4,-1):\n",
    "        arr.insert(0,array[i])\n",
    "    return(arr)\n",
    "        "
   ]
  },
  {
   "cell_type": "code",
   "execution_count": 89,
   "metadata": {},
   "outputs": [
    {
     "data": {
      "text/plain": [
       "[19, 45, 45]"
      ]
     },
     "execution_count": 89,
     "metadata": {},
     "output_type": "execute_result"
    }
   ],
   "source": [
    "arr = [2,19,8,2,45,10,10,12,45]\n",
    "findThreeLargestNumbers(arr)"
   ]
  },
  {
   "cell_type": "code",
   "execution_count": 82,
   "metadata": {},
   "outputs": [],
   "source": [
    "#Time Complexity O(n) and Space Complexity O(1)\n",
    "def findThreeLargestNumbers_iter(array):\n",
    "    threeLarge = [None,None,None]\n",
    "    for num in array:\n",
    "        if threeLarge[2] == None or num > threeLarge[2]:\n",
    "            threeLarge[0] = threeLarge[1]\n",
    "            threeLarge[1] = threeLarge[2]\n",
    "            threeLarge[2] = num\n",
    "        elif threeLarge[1] == None or num > threeLarge[1]:\n",
    "            threeLarge[0] = threeLarge[1]\n",
    "            threeLarge[1] = num\n",
    "        elif threeLarge[0] == None or num > threeLarge[0]:\n",
    "            threeLarge[0] = num\n",
    "    return(threeLarge)            \n",
    "   "
   ]
  },
  {
   "cell_type": "code",
   "execution_count": 83,
   "metadata": {},
   "outputs": [
    {
     "data": {
      "text/plain": [
       "[19, 45, 45]"
      ]
     },
     "execution_count": 83,
     "metadata": {},
     "output_type": "execute_result"
    }
   ],
   "source": [
    "arr = [2,19,8,2,45,10,10,12,45]\n",
    "findThreeLargestNumbers_iter(arr)"
   ]
  },
  {
   "cell_type": "code",
   "execution_count": null,
   "metadata": {},
   "outputs": [],
   "source": []
  }
 ],
 "metadata": {
  "kernelspec": {
   "display_name": "Python 3",
   "language": "python",
   "name": "python3"
  },
  "language_info": {
   "codemirror_mode": {
    "name": "ipython",
    "version": 3
   },
   "file_extension": ".py",
   "mimetype": "text/x-python",
   "name": "python",
   "nbconvert_exporter": "python",
   "pygments_lexer": "ipython3",
   "version": "3.7.3"
  }
 },
 "nbformat": 4,
 "nbformat_minor": 2
}
