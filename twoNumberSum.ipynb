{
 "cells": [
  {
   "cell_type": "code",
   "execution_count": 47,
   "metadata": {},
   "source": [
    "#Space Complexity O(1) Time complexity O(nlogn)\n",
    "def twoNumberSum_sort(arr,target):\n",
    "    sumList=[]\n",
    "    arr.sort()\n",
    "    i = 0\n",
    "    j = len(arr)-1\n",
    "    while i < j:\n",
    "        if (arr[i]+arr[j]==target):\n",
    "            sumList.append(arr[i])\n",
    "            sumList.append(arr[j])\n",
    "            i = i+1\n",
    "            j = j-1\n",
    "        elif (arr[i]+arr[j]>target):\n",
    "            j = j-1\n",
    "        else:\n",
    "            i = i+1\n",
    "    return(sumList)\n",
    "            \n",
    "    "
   ]
  },
  {
   "cell_type": "code",
   "execution_count": 40,
   "metadata": {},
   "outputs": [],
   "source": [
    "#Space Complexity O(1) Time complexity O(n^2)\n",
    "def twoNumberSum_brute(arr,target):\n",
    "    sumList=[]\n",
    "    for i in range(0,len(arr)-1):\n",
    "        for j in range(i+1,len(arr)):\n",
    "            if arr[i]+arr[j] == target:\n",
    "                sumList.append(arr[i])\n",
    "                sumList.append(arr[j])\n",
    "    return(sumList)\n",
    "                "
   ]
  },
  {
   "cell_type": "code",
   "execution_count": 44,
   "metadata": {},
   "outputs": [],
   "source": [
    "#Space Complexity O(n) Time complexity O(n)\n",
    "def twoNumberSum_hash(arr,target):\n",
    "    sumList = []\n",
    "    hashTable = {}\n",
    "    for i in arr:\n",
    "        y = target-i\n",
    "        if hashTable.get(y,'not found') == 'not found':\n",
    "            hashTable[i] = 'True'\n",
    "        else:\n",
    "            sumList.append(i)\n",
    "            sumList.append(y)\n",
    "    return(sumList)\n",
    "    "
   ]
  },
  {
   "cell_type": "code",
   "execution_count": 41,
   "metadata": {},
   "outputs": [],
   "source": [
    "arr = [3,5,-4,8,11,1,-1,6]\n",
    "target=13"
   ]
  },
  {
   "cell_type": "code",
   "execution_count": 48,
   "metadata": {},
   "outputs": [
    {
     "data": {
      "text/plain": [
       "[(5, 8)]"
      ]
     },
     "execution_count": 48,
     "metadata": {},
     "output_type": "execute_result"
    }
   ],
   "source": [
    "twoNumberSum_sort(arr,target)"
   ]
  },
  {
   "cell_type": "code",
   "execution_count": 43,
   "metadata": {},
   "outputs": [
    {
     "data": {
      "text/plain": [
       "[5, 8]"
      ]
     },
     "execution_count": 43,
     "metadata": {},
     "output_type": "execute_result"
    }
   ],
   "source": [
    "twoNumberSum_brute(arr,target)"
   ]
  },
  {
   "cell_type": "code",
   "execution_count": 45,
   "metadata": {},
   "outputs": [
    {
     "data": {
      "text/plain": [
       "[8, 5]"
      ]
     },
     "execution_count": 45,
     "metadata": {},
     "output_type": "execute_result"
    }
   ],
   "source": [
    "twoNumberSum_hash(arr,target)"
   ]
  },
  {
   "cell_type": "code",
   "execution_count": null,
   "metadata": {},
   "outputs": [],
   "source": []
  }
 ],
 "metadata": {
  "kernelspec": {
   "display_name": "Python 3",
   "language": "python",
   "name": "python3"
  },
  "language_info": {
   "codemirror_mode": {
    "name": "ipython",
    "version": 3
   },
   "file_extension": ".py",
   "mimetype": "text/x-python",
   "name": "python",
   "nbconvert_exporter": "python",
   "pygments_lexer": "ipython3",
   "version": "3.7.3"
  }
 },
 "nbformat": 4,
 "nbformat_minor": 2
}
