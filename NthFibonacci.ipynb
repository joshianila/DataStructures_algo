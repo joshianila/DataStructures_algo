{
 "cells": [
  {
   "cell_type": "markdown",
   "metadata": {},
   "source": [
    "Sequence is 0 and 1 and the next ones are (n-1) + (n-2) for nth one. Write function which returns nth fibonacci series"
   ]
  },
  {
   "cell_type": "code",
   "execution_count": 7,
   "metadata": {},
   "outputs": [],
   "source": [
    "#Time complexity O(2^n) Space Complexity O(n)\n",
    "def getNthFib(n):\n",
    "    if n == 1:\n",
    "        return 0\n",
    "    elif n == 2:\n",
    "        return 1\n",
    "    else:\n",
    "        return (getNthFib(n-1) + getNthFib(n-2))"
   ]
  },
  {
   "cell_type": "code",
   "execution_count": 8,
   "metadata": {},
   "outputs": [
    {
     "data": {
      "text/plain": [
       "34"
      ]
     },
     "execution_count": 8,
     "metadata": {},
     "output_type": "execute_result"
    }
   ],
   "source": [
    "getNthFib(10)"
   ]
  },
  {
   "cell_type": "code",
   "execution_count": 21,
   "metadata": {},
   "outputs": [],
   "source": [
    "#Time complexity O(n) Space Complexity O(n)\n",
    "def getNthFib_dp(n):\n",
    "    hashTable = {}\n",
    "    if n ==1:\n",
    "        hashTable[1] = 0\n",
    "        return(0)\n",
    "    elif n == 2:\n",
    "        hashTable[2] = 1\n",
    "        return(1)\n",
    "    elif hashTable.get(n,'not found') == 'not found':\n",
    "        hashTable[n] = getNthFib_dp(n-1)+getNthFib_dp(n-2)\n",
    "        return(hashTable.get(n))\n",
    "     "
   ]
  },
  {
   "cell_type": "code",
   "execution_count": 24,
   "metadata": {},
   "outputs": [
    {
     "data": {
      "text/plain": [
       "34"
      ]
     },
     "execution_count": 24,
     "metadata": {},
     "output_type": "execute_result"
    }
   ],
   "source": [
    "getNthFib_dp(10)"
   ]
  },
  {
   "cell_type": "code",
   "execution_count": 34,
   "metadata": {},
   "outputs": [],
   "source": [
    "#Time complexity O(n) Space Complexity O(1)\n",
    "def getNthFib_iter(n):\n",
    "    if n==1:\n",
    "        return 0\n",
    "    elif n==2:\n",
    "        return 1\n",
    "    else:\n",
    "        i=2\n",
    "        arr = [0,1]\n",
    "        while i<n:\n",
    "            next = arr[0]+arr[1]\n",
    "            arr[0] = arr[1]\n",
    "            arr[1] = next\n",
    "            i = i+1\n",
    "        return arr[1]\n",
    "    "
   ]
  },
  {
   "cell_type": "code",
   "execution_count": 36,
   "metadata": {},
   "outputs": [
    {
     "data": {
      "text/plain": [
       "34"
      ]
     },
     "execution_count": 36,
     "metadata": {},
     "output_type": "execute_result"
    }
   ],
   "source": [
    "getNthFib_iter(10)"
   ]
  },
  {
   "cell_type": "code",
   "execution_count": null,
   "metadata": {},
   "outputs": [],
   "source": []
  }
 ],
 "metadata": {
  "kernelspec": {
   "display_name": "Python 3",
   "language": "python",
   "name": "python3"
  },
  "language_info": {
   "codemirror_mode": {
    "name": "ipython",
    "version": 3
   },
   "file_extension": ".py",
   "mimetype": "text/x-python",
   "name": "python",
   "nbconvert_exporter": "python",
   "pygments_lexer": "ipython3",
   "version": "3.7.3"
  }
 },
 "nbformat": 4,
 "nbformat_minor": 2
}
